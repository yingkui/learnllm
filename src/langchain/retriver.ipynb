{
 "cells": [
  {
   "cell_type": "markdown",
   "metadata": {},
   "source": [
    "Test Jupyter Notebook"
   ]
  },
  {
   "cell_type": "code",
   "execution_count": null,
   "metadata": {},
   "outputs": [],
   "source": [
    "%pip install langchain_community\n",
    "\n",
    "from langchain_community.embeddings import OpenAIEmbeddings  # Updated import\n",
    "from langchain_community.vectorstores import FAISS  # Updated import"
   ]
  },
  {
   "cell_type": "code",
   "execution_count": 2,
   "metadata": {},
   "outputs": [
    {
     "name": "stderr",
     "output_type": "stream",
     "text": [
      "/var/folders/mx/dxny4ktd5vx1zx_38d2_knhr0000gn/T/ipykernel_53898/633151024.py:2: LangChainDeprecationWarning: The class `OpenAIEmbeddings` was deprecated in LangChain 0.0.9 and will be removed in 1.0. An updated version of the class exists in the :class:`~langchain-openai package and should be used instead. To use it run `pip install -U :class:`~langchain-openai` and import as `from :class:`~langchain_openai import OpenAIEmbeddings``.\n",
      "  embedding_function = OpenAIEmbeddings()\n",
      "/var/folders/mx/dxny4ktd5vx1zx_38d2_knhr0000gn/T/ipykernel_53898/633151024.py:13: LangChainDeprecationWarning: The method `BaseRetriever.get_relevant_documents` was deprecated in langchain-core 0.1.46 and will be removed in 1.0. Use :meth:`~invoke` instead.\n",
      "  results = retriever.get_relevant_documents(query)\n"
     ]
    },
    {
     "name": "stdout",
     "output_type": "stream",
     "text": [
      "What is AI?\n",
      "Introduction to Machine Learning\n",
      "Deep Learning basics\n"
     ]
    }
   ],
   "source": [
    "# Initialize an embedding function\n",
    "embedding_function = OpenAIEmbeddings()\n",
    "\n",
    "# Load or create a vector store\n",
    "documents = [\"What is AI?\", \"Introduction to Machine Learning\", \"Deep Learning basics\"]\n",
    "db = FAISS.from_texts(documents, embedding_function)\n",
    "\n",
    "# Use the vector store as a retriever\n",
    "retriever = db.as_retriever()\n",
    "\n",
    "# Query the retriever\n",
    "query = \"Tell me about artificial intelligence.\"\n",
    "results = retriever.get_relevant_documents(query)\n",
    "\n",
    "# Output the results\n",
    "for result in results:\n",
    "    print(result.page_content)"
   ]
  }
 ],
 "metadata": {
  "kernelspec": {
   "display_name": "Python 3",
   "language": "python",
   "name": "python3"
  },
  "language_info": {
   "codemirror_mode": {
    "name": "ipython",
    "version": 3
   },
   "file_extension": ".py",
   "mimetype": "text/x-python",
   "name": "python",
   "nbconvert_exporter": "python",
   "pygments_lexer": "ipython3",
   "version": "3.12.2"
  }
 },
 "nbformat": 4,
 "nbformat_minor": 2
}
